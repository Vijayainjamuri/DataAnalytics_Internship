{
 "cells": [
  {
   "cell_type": "code",
   "execution_count": 1,
   "id": "7a039cf6",
   "metadata": {},
   "outputs": [],
   "source": [
    "import numpy as np"
   ]
  },
  {
   "cell_type": "code",
   "execution_count": 2,
   "id": "c2a709f3",
   "metadata": {},
   "outputs": [],
   "source": [
    "a = np.array([1,2,3,4,5])"
   ]
  },
  {
   "cell_type": "code",
   "execution_count": 3,
   "id": "a869774a",
   "metadata": {},
   "outputs": [
    {
     "name": "stdout",
     "output_type": "stream",
     "text": [
      "[1 2 3 4 5]\n"
     ]
    }
   ],
   "source": [
    "print(a)"
   ]
  },
  {
   "cell_type": "code",
   "execution_count": 4,
   "id": "d8de28c1",
   "metadata": {},
   "outputs": [
    {
     "data": {
      "text/plain": [
       "(5,)"
      ]
     },
     "execution_count": 4,
     "metadata": {},
     "output_type": "execute_result"
    }
   ],
   "source": [
    "a.shape"
   ]
  },
  {
   "cell_type": "code",
   "execution_count": 5,
   "id": "535b6e7b",
   "metadata": {},
   "outputs": [],
   "source": [
    "b = np.arange(6).reshape(2,3)"
   ]
  },
  {
   "cell_type": "code",
   "execution_count": 6,
   "id": "ea2e19b5",
   "metadata": {},
   "outputs": [
    {
     "name": "stdout",
     "output_type": "stream",
     "text": [
      "[[0 1 2]\n",
      " [3 4 5]]\n"
     ]
    }
   ],
   "source": [
    "print(b)"
   ]
  },
  {
   "cell_type": "code",
   "execution_count": 7,
   "id": "2d3d5eb2",
   "metadata": {},
   "outputs": [],
   "source": [
    "b = np.array([(23,45,64),(32,45,66)])"
   ]
  },
  {
   "cell_type": "code",
   "execution_count": 8,
   "id": "f0468e6b",
   "metadata": {},
   "outputs": [
    {
     "name": "stdout",
     "output_type": "stream",
     "text": [
      "[[23 45 64]\n",
      " [32 45 66]]\n"
     ]
    }
   ],
   "source": [
    "print(b)"
   ]
  },
  {
   "cell_type": "code",
   "execution_count": 9,
   "id": "17907d81",
   "metadata": {},
   "outputs": [
    {
     "data": {
      "text/plain": [
       "(2, 3)"
      ]
     },
     "execution_count": 9,
     "metadata": {},
     "output_type": "execute_result"
    }
   ],
   "source": [
    "b.shape"
   ]
  },
  {
   "cell_type": "code",
   "execution_count": 10,
   "id": "e0f9fa09",
   "metadata": {},
   "outputs": [],
   "source": [
    "c = np.array([6,7,8,9,10])"
   ]
  },
  {
   "cell_type": "code",
   "execution_count": 11,
   "id": "cb11a592",
   "metadata": {},
   "outputs": [
    {
     "name": "stdout",
     "output_type": "stream",
     "text": [
      "[ 6  7  8  9 10]\n"
     ]
    }
   ],
   "source": [
    "print(c)"
   ]
  },
  {
   "cell_type": "code",
   "execution_count": 12,
   "id": "71ff7bee",
   "metadata": {},
   "outputs": [],
   "source": [
    "d = np.hstack((a,c))"
   ]
  },
  {
   "cell_type": "code",
   "execution_count": 13,
   "id": "6315de81",
   "metadata": {},
   "outputs": [
    {
     "name": "stdout",
     "output_type": "stream",
     "text": [
      "[ 1  2  3  4  5  6  7  8  9 10]\n"
     ]
    }
   ],
   "source": [
    "print(d)"
   ]
  },
  {
   "cell_type": "code",
   "execution_count": 14,
   "id": "30ccabcd",
   "metadata": {},
   "outputs": [
    {
     "name": "stdout",
     "output_type": "stream",
     "text": [
      "Mean:  5.5\n"
     ]
    }
   ],
   "source": [
    "r1 = np.mean(d)\n",
    "print(\"Mean: \",r1)"
   ]
  },
  {
   "cell_type": "code",
   "execution_count": 15,
   "id": "67052457",
   "metadata": {},
   "outputs": [
    {
     "name": "stdout",
     "output_type": "stream",
     "text": [
      "Standard Deviation:  2.8722813232690143\n"
     ]
    }
   ],
   "source": [
    "r2 = np.std(d)\n",
    "print(\"Standard Deviation: \",r2)"
   ]
  },
  {
   "cell_type": "code",
   "execution_count": 16,
   "id": "bc429272",
   "metadata": {},
   "outputs": [
    {
     "name": "stdout",
     "output_type": "stream",
     "text": [
      "Variance:  8.25\n"
     ]
    }
   ],
   "source": [
    "r3 = np.var(d)\n",
    "print(\"Variance: \",r3)"
   ]
  },
  {
   "cell_type": "code",
   "execution_count": null,
   "id": "efe3f4c1",
   "metadata": {},
   "outputs": [],
   "source": []
  }
 ],
 "metadata": {
  "kernelspec": {
   "display_name": "Python 3 (ipykernel)",
   "language": "python",
   "name": "python3"
  },
  "language_info": {
   "codemirror_mode": {
    "name": "ipython",
    "version": 3
   },
   "file_extension": ".py",
   "mimetype": "text/x-python",
   "name": "python",
   "nbconvert_exporter": "python",
   "pygments_lexer": "ipython3",
   "version": "3.9.7"
  }
 },
 "nbformat": 4,
 "nbformat_minor": 5
}
