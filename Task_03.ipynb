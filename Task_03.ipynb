{
 "cells": [
  {
   "cell_type": "code",
   "execution_count": 50,
   "id": "58b91366",
   "metadata": {},
   "outputs": [],
   "source": [
    "from openpyxl import Workbook"
   ]
  },
  {
   "cell_type": "code",
   "execution_count": 51,
   "id": "a55846a8",
   "metadata": {},
   "outputs": [],
   "source": [
    "wb = Workbook()"
   ]
  },
  {
   "cell_type": "code",
   "execution_count": 52,
   "id": "6a28c4e3",
   "metadata": {},
   "outputs": [],
   "source": [
    "ws = wb.active"
   ]
  },
  {
   "cell_type": "code",
   "execution_count": 53,
   "id": "7d5fae33",
   "metadata": {},
   "outputs": [],
   "source": [
    "sheet1 = [[\"Fruit\",\"Quantity\"],[\"Apple\",10],[\"Banana\",5],[\"Apple\",15],[\"Orange\",20],[\"Banana\",10]]"
   ]
  },
  {
   "cell_type": "code",
   "execution_count": 54,
   "id": "a5aefff0",
   "metadata": {},
   "outputs": [],
   "source": [
    "for row in sheet1:\n",
    "    ws.append(row)"
   ]
  },
  {
   "cell_type": "code",
   "execution_count": 55,
   "id": "e5816057",
   "metadata": {},
   "outputs": [],
   "source": [
    "wb.save(\"C:\\\\Users\\\\vijju\\\\Desktop\\\\Task_3\\sheet_01.xlsx\")"
   ]
  },
  {
   "cell_type": "code",
   "execution_count": null,
   "id": "73323bf8",
   "metadata": {},
   "outputs": [],
   "source": []
  }
 ],
 "metadata": {
  "kernelspec": {
   "display_name": "Python 3 (ipykernel)",
   "language": "python",
   "name": "python3"
  },
  "language_info": {
   "codemirror_mode": {
    "name": "ipython",
    "version": 3
   },
   "file_extension": ".py",
   "mimetype": "text/x-python",
   "name": "python",
   "nbconvert_exporter": "python",
   "pygments_lexer": "ipython3",
   "version": "3.9.7"
  }
 },
 "nbformat": 4,
 "nbformat_minor": 5
}
