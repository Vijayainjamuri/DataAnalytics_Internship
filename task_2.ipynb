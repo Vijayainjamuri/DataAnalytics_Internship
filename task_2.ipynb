{
 "cells": [
  {
   "cell_type": "code",
   "execution_count": 35,
   "id": "7169ee38",
   "metadata": {},
   "outputs": [],
   "source": [
    "import pandas as pd"
   ]
  },
  {
   "cell_type": "code",
   "execution_count": 36,
   "id": "2681a292",
   "metadata": {},
   "outputs": [],
   "source": [
    "titanic_data=pd.read_csv(r\"C:\\\\Users\\\\vijju\\\\Desktop\\titanic.csv\")"
   ]
  },
  {
   "cell_type": "code",
   "execution_count": 37,
   "id": "0f3a00f7",
   "metadata": {},
   "outputs": [
    {
     "name": "stdout",
     "output_type": "stream",
     "text": [
      "   PassengerId  Survived  Pclass  \\\n",
      "0            1         0       3   \n",
      "1            2         1       1   \n",
      "2            3         1       3   \n",
      "3            4         1       1   \n",
      "4            5         0       3   \n",
      "\n",
      "                                                Name     Sex   Age  SibSp  \\\n",
      "0                            Braund, Mr. Owen Harris    male  22.0      1   \n",
      "1  Cumings, Mrs. John Bradley (Florence Briggs Th...  female  38.0      1   \n",
      "2                             Heikkinen, Miss. Laina  female  26.0      0   \n",
      "3       Futrelle, Mrs. Jacques Heath (Lily May Peel)  female  35.0      1   \n",
      "4                           Allen, Mr. William Henry    male  35.0      0   \n",
      "\n",
      "   Parch            Ticket     Fare Cabin Embarked  \n",
      "0      0         A/5 21171   7.2500   NaN        S  \n",
      "1      0          PC 17599  71.2833   C85        C  \n",
      "2      0  STON/O2. 3101282   7.9250   NaN        S  \n",
      "3      0            113803  53.1000  C123        S  \n",
      "4      0            373450   8.0500   NaN        S  \n"
     ]
    }
   ],
   "source": [
    "print(titanic_data.head())"
   ]
  },
  {
   "cell_type": "code",
   "execution_count": 38,
   "id": "fd759472",
   "metadata": {},
   "outputs": [],
   "source": [
    "passenger_name=titanic_data.loc[titanic_data[\"Age\"]>35,\"Name\"]"
   ]
  },
  {
   "cell_type": "code",
   "execution_count": 39,
   "id": "573973e4",
   "metadata": {},
   "outputs": [
    {
     "name": "stdout",
     "output_type": "stream",
     "text": [
      "1      Cumings, Mrs. John Bradley (Florence Briggs Th...\n",
      "6                                McCarthy, Mr. Timothy J\n",
      "11                              Bonnell, Miss. Elizabeth\n",
      "13                           Andersson, Mr. Anders Johan\n",
      "15                      Hewlett, Mrs. (Mary D Kingcome) \n",
      "                             ...                        \n",
      "865                             Bystrom, Mrs. (Karolina)\n",
      "871     Beckwith, Mrs. Richard Leonard (Sallie Monypeny)\n",
      "873                          Vander Cruyssen, Mr. Victor\n",
      "879        Potter, Mrs. Thomas Jr (Lily Alexenia Wilson)\n",
      "885                 Rice, Mrs. William (Margaret Norton)\n",
      "Name: Name, Length: 217, dtype: object\n"
     ]
    }
   ],
   "source": [
    "print(passenger_name)"
   ]
  },
  {
   "cell_type": "code",
   "execution_count": 40,
   "id": "251b7841",
   "metadata": {},
   "outputs": [],
   "source": [
    "Row_Col=titanic_data.iloc[9:25,2:5]"
   ]
  },
  {
   "cell_type": "code",
   "execution_count": 41,
   "id": "69224028",
   "metadata": {},
   "outputs": [
    {
     "name": "stdout",
     "output_type": "stream",
     "text": [
      "    Pclass                                               Name     Sex\n",
      "9        2                Nasser, Mrs. Nicholas (Adele Achem)  female\n",
      "10       3                    Sandstrom, Miss. Marguerite Rut  female\n",
      "11       1                           Bonnell, Miss. Elizabeth  female\n",
      "12       3                     Saundercock, Mr. William Henry    male\n",
      "13       3                        Andersson, Mr. Anders Johan    male\n",
      "14       3               Vestrom, Miss. Hulda Amanda Adolfina  female\n",
      "15       2                   Hewlett, Mrs. (Mary D Kingcome)   female\n",
      "16       3                               Rice, Master. Eugene    male\n",
      "17       2                       Williams, Mr. Charles Eugene    male\n",
      "18       3  Vander Planke, Mrs. Julius (Emelia Maria Vande...  female\n",
      "19       3                            Masselmani, Mrs. Fatima  female\n",
      "20       2                               Fynney, Mr. Joseph J    male\n",
      "21       2                              Beesley, Mr. Lawrence    male\n",
      "22       3                        McGowan, Miss. Anna \"Annie\"  female\n",
      "23       1                       Sloper, Mr. William Thompson    male\n",
      "24       3                      Palsson, Miss. Torborg Danira  female\n"
     ]
    }
   ],
   "source": [
    "print(Row_Col)"
   ]
  },
  {
   "cell_type": "code",
   "execution_count": 42,
   "id": "96a64c7c",
   "metadata": {},
   "outputs": [],
   "source": [
    "aggregate=titanic_data.agg(\n",
    "    {\n",
    "        \"Age\":[\"min\",\"max\",\"median\",\"skew\"],\n",
    "        \"Fare\":[\"min\",\"max\",\"median\",\"mean\"],\n",
    "    \n",
    "    }\n",
    ")"
   ]
  },
  {
   "cell_type": "code",
   "execution_count": 43,
   "id": "8ff37b0c",
   "metadata": {},
   "outputs": [
    {
     "name": "stdout",
     "output_type": "stream",
     "text": [
      "              Age        Fare\n",
      "min      0.420000    0.000000\n",
      "max     80.000000  512.329200\n",
      "median  28.000000   14.454200\n",
      "skew     0.389108         NaN\n",
      "mean          NaN   32.204208\n"
     ]
    }
   ],
   "source": [
    "print(aggregate)"
   ]
  },
  {
   "cell_type": "code",
   "execution_count": 44,
   "id": "4835ed7b",
   "metadata": {},
   "outputs": [],
   "source": [
    "mean_ticket=titanic_data.groupby([\"Sex\",\"Pclass\"])[\"Fare\"].mean()"
   ]
  },
  {
   "cell_type": "code",
   "execution_count": 34,
   "id": "c83e7e8c",
   "metadata": {},
   "outputs": [
    {
     "name": "stdout",
     "output_type": "stream",
     "text": [
      "Sex     Pclass\n",
      "female  1         106.125798\n",
      "        2          21.970121\n",
      "        3          16.118810\n",
      "male    1          67.226127\n",
      "        2          19.741782\n",
      "        3          12.661633\n",
      "Name: Fare, dtype: float64\n"
     ]
    }
   ],
   "source": [
    "print(mean_ticket)"
   ]
  },
  {
   "cell_type": "code",
   "execution_count": null,
   "id": "ce20d65b",
   "metadata": {},
   "outputs": [],
   "source": []
  }
 ],
 "metadata": {
  "kernelspec": {
   "display_name": "Python 3 (ipykernel)",
   "language": "python",
   "name": "python3"
  },
  "language_info": {
   "codemirror_mode": {
    "name": "ipython",
    "version": 3
   },
   "file_extension": ".py",
   "mimetype": "text/x-python",
   "name": "python",
   "nbconvert_exporter": "python",
   "pygments_lexer": "ipython3",
   "version": "3.9.7"
  }
 },
 "nbformat": 4,
 "nbformat_minor": 5
}
